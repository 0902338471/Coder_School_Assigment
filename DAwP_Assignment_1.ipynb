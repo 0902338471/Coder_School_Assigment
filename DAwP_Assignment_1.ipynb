{
  "nbformat": 4,
  "nbformat_minor": 0,
  "metadata": {
    "colab": {
      "name": "DAwP_Assignment_1.ipynb",
      "provenance": [],
      "include_colab_link": true
    },
    "kernelspec": {
      "name": "python3",
      "display_name": "Python 3"
    }
  },
  "cells": [
    {
      "cell_type": "markdown",
      "metadata": {
        "id": "view-in-github",
        "colab_type": "text"
      },
      "source": [
        "<a href=\"https://colab.research.google.com/github/0902338471/Coder_School_Assigment/blob/master/DAwP_Assignment_1.ipynb\" target=\"_parent\"><img src=\"https://colab.research.google.com/assets/colab-badge.svg\" alt=\"Open In Colab\"/></a>"
      ]
    },
    {
      "cell_type": "markdown",
      "metadata": {
        "id": "jjZG7BNlbWtO",
        "colab_type": "text"
      },
      "source": [
        "![](https://i.imgur.com/0AUxkXt.png)"
      ]
    },
    {
      "cell_type": "markdown",
      "metadata": {
        "id": "jbpQzyjqbflM",
        "colab_type": "text"
      },
      "source": [
        "# Assignment 1 - The Hacker Rank\n",
        "\n",
        "HackerRank is a place where programmers from all over the world come together to solve problems in a wide range of Computer Science domains.\n",
        "\n",
        "As you solve more challenges, you earn points and move up the HackerRank Leaderboard.\n",
        "\n",
        "Looking for a job at an awesome company? You can get hired by solving [challenges](https://www.hackerrank.com/jobs/search)!\n",
        "\n",
        "It's cool. Let's establish your knowledge and fight for glory!\n",
        "\n",
        "But before that let's make it clear that.."
      ]
    },
    {
      "cell_type": "markdown",
      "metadata": {
        "id": "-ndmD4naciAN",
        "colab_type": "text"
      },
      "source": [
        "## Note-taking is IMPORTANT\n",
        "\n",
        "Blog: [Why is note-taking important](https://nickblackbourn.com/blog/why-is-note-taking-important/)\n",
        "\n",
        "Note taking isn’t just important for college students, it’s a valuable life skill.\n",
        "\n",
        "Effective note taking helps you to remember information and aids your understanding of that information. \n",
        "\n",
        "**Notes boost your understanding**\n",
        "\n",
        "By making notes, you force yourself to construct a conceptual mental representation of the ideas you are grappling with. It is this process that helps you comprehend the subject matter you are working with.\n",
        "\n",
        "**Notes are a repository of your thinking**\n",
        "\n",
        "When you need to recall something that you came across a while ago, you can go over the main ideas by looking over your notes. This is why good, comprehensive notes are so useful; they are a catalogue of the best ideas you’ve encountered, and what you thought about them.\n",
        "\n",
        "etc.\n",
        "\n",
        "\n",
        "\n",
        "\n",
        "\n",
        "\n",
        "\n"
      ]
    },
    {
      "cell_type": "markdown",
      "metadata": {
        "id": "IGvKPsdVfX-F",
        "colab_type": "text"
      },
      "source": [
        "## Requirements\n",
        "\n",
        "Pick 10 challenges on HackerRank about SQL and 5 about Python in **easy** level:\n",
        "\n",
        "[HackerRank - Domain SQL](https://www.hackerrank.com/domains/sql?filters%5Bdifficulty%5D%5B%5D=easy&filters%5Bsubdomains%5D%5B%5D=select)\n",
        "\n",
        "[HackerRank - Domain Python](https://www.hackerrank.com/domains/python?filters%5Bdifficulty%5D%5B%5D=easy)\n",
        "\n",
        "For each challenge:\n",
        "\n",
        "* Create a markdown cell first that describes the challenge.\n",
        "* Solve the challenge on HackerRank and copy your solution to a code cell below\n",
        "* (Optional) A short description about how you came up with the solution would be awesome."
      ]
    },
    {
      "cell_type": "markdown",
      "metadata": {
        "id": "higGK1Y5iAea",
        "colab_type": "text"
      },
      "source": [
        "## Example"
      ]
    },
    {
      "cell_type": "markdown",
      "metadata": {
        "id": "D2yU2FYDi4tj",
        "colab_type": "text"
      },
      "source": [
        "### SQL"
      ]
    },
    {
      "cell_type": "markdown",
      "metadata": {
        "id": "gu4DDH7Ki77C",
        "colab_type": "text"
      },
      "source": [
        "\n",
        "#### Problem 1\n",
        "\n",
        "Query all columns for all American cities in **CITY** with populations larger than 100000. The CountryCode for America is USA.\n",
        "\n",
        "**Input Format**\n",
        "\n",
        "The **CITY** table is described as follows:\n",
        "\n",
        "| Field | Type |\n",
        "|:----:|:---:|\n",
        "| ID | NUMBER |\n",
        "| NAME | VARCHAR2(17) |\n",
        "| COUNTRYCODE | VARCHAR2(3) |\n",
        "| DISTRICT | VARCHAR2(20) |\n",
        "| POPULATION | NUMBER |"
      ]
    },
    {
      "cell_type": "code",
      "metadata": {
        "id": "hhAwMjyhbT1b",
        "colab_type": "code",
        "colab": {}
      },
      "source": [
        "# Solution\n",
        "# SELECT * from city WHERE population>100000 AND countrycode='USA';"
      ],
      "execution_count": 0,
      "outputs": []
    },
    {
      "cell_type": "markdown",
      "metadata": {
        "id": "Np8CGtiMLw4G",
        "colab_type": "text"
      },
      "source": [
        "**Problem 1**\n",
        "Query the names of all American cities in **CITY** with populations larger than 120000. The CountryCode for America is USA.\n",
        "\n",
        "**Input Format**\n",
        "\n",
        "The **CITY** table is described as follows:\n",
        "\n",
        "| Field | Type |\n",
        "|:----:|:---:|\n",
        "| ID | NUMBER |\n",
        "| NAME | VARCHAR2(17) |\n",
        "| COUNTRYCODE | VARCHAR2(3) |\n",
        "| DISTRICT | VARCHAR2(20) |\n",
        "| POPULATION | NUMBER |\n"
      ]
    },
    {
      "cell_type": "code",
      "metadata": {
        "id": "C_2merJ3MtjH",
        "colab_type": "code",
        "colab": {}
      },
      "source": [
        "select name from city where population>120000 and countrycode='USA' ;"
      ],
      "execution_count": 0,
      "outputs": []
    },
    {
      "cell_type": "markdown",
      "metadata": {
        "id": "ku_bi0ECOrUT",
        "colab_type": "text"
      },
      "source": [
        "**Problem 2**\n",
        "\n",
        "Query all columns (attributes) for every row in the CITY table.\n",
        "\n",
        "**Input Format**\n",
        "\n",
        "The **CITY** table is described as follows:\n",
        "\n",
        "| Field | Type |\n",
        "|:----:|:---:|\n",
        "| ID | NUMBER |\n",
        "| NAME | VARCHAR2(17) |\n",
        "| COUNTRYCODE | VARCHAR2(3) |\n",
        "| DISTRICT | VARCHAR2(20) |\n",
        "| POPULATION | NUMBER |\n",
        "\n"
      ]
    },
    {
      "cell_type": "code",
      "metadata": {
        "id": "RuQQkhEdO2yZ",
        "colab_type": "code",
        "colab": {}
      },
      "source": [
        "select * from city;"
      ],
      "execution_count": 0,
      "outputs": []
    },
    {
      "cell_type": "markdown",
      "metadata": {
        "id": "LXjspetiO7hf",
        "colab_type": "text"
      },
      "source": [
        "**Problem 3**\n",
        "\n",
        "Query all columns for a city in CITY with the ID 1661.\n",
        "\n",
        "**Input Format**\n",
        "\n",
        "The **CITY** table is described as follows:\n",
        "\n",
        "| Field | Type |\n",
        "|:----:|:---:|\n",
        "| ID | NUMBER |\n",
        "| NAME | VARCHAR2(17) |\n",
        "| COUNTRYCODE | VARCHAR2(3) |\n",
        "| DISTRICT | VARCHAR2(20) |\n",
        "| POPULATION | NUMBER |"
      ]
    },
    {
      "cell_type": "code",
      "metadata": {
        "id": "w6jDJSGLO5Ns",
        "colab_type": "code",
        "colab": {}
      },
      "source": [
        "select * from city where id='1661'"
      ],
      "execution_count": 0,
      "outputs": []
    },
    {
      "cell_type": "markdown",
      "metadata": {
        "id": "Kz4P_RF4PPL2",
        "colab_type": "text"
      },
      "source": [
        "**Problem 4**\n",
        "\n",
        "Query all attributes of every Japanese city in the CITY table. The COUNTRYCODE for Japan is JPN.\n",
        "\n",
        "**Input Format**\n",
        "\n",
        "The **CITY** table is described as follows:\n",
        "\n",
        "| Field | Type |\n",
        "|:----:|:---:|\n",
        "| ID | NUMBER |\n",
        "| NAME | VARCHAR2(17) |\n",
        "| COUNTRYCODE | VARCHAR2(3) |\n",
        "| DISTRICT | VARCHAR2(20) |\n",
        "| POPULATION | NUMBER |"
      ]
    },
    {
      "cell_type": "code",
      "metadata": {
        "id": "Fv1pP-k7PYSk",
        "colab_type": "code",
        "colab": {}
      },
      "source": [
        "select * from city where countrycode='JPN';"
      ],
      "execution_count": 0,
      "outputs": []
    },
    {
      "cell_type": "markdown",
      "metadata": {
        "id": "BjmLpANCPhsW",
        "colab_type": "text"
      },
      "source": [
        "**Problem 5**\n",
        "\n",
        "Query the names of all the Japanese cities in the CITY table. The COUNTRYCODE for Japan is JPN.\n",
        "\n",
        "**Input Format**\n",
        "\n",
        "The **CITY** table is described as follows:\n",
        "\n",
        "| Field | Type |\n",
        "|:----:|:---:|\n",
        "| ID | NUMBER |\n",
        "| NAME | VARCHAR2(17) |\n",
        "| COUNTRYCODE | VARCHAR2(3) |\n",
        "| DISTRICT | VARCHAR2(20) |\n",
        "| POPULATION | NUMBER |"
      ]
    },
    {
      "cell_type": "code",
      "metadata": {
        "id": "M-fPsGZuP2aG",
        "colab_type": "code",
        "colab": {}
      },
      "source": [
        "select name from city where countrycode='JPN';"
      ],
      "execution_count": 0,
      "outputs": []
    },
    {
      "cell_type": "markdown",
      "metadata": {
        "id": "8MvbyFklP_jm",
        "colab_type": "text"
      },
      "source": [
        "**Problem 6**\n",
        "\n",
        "Query a list of CITY and STATE from the STATION table.\n",
        "\n",
        "**Input Format**\n",
        "\n",
        "The **STATION** table is described as follows:\n",
        "          **STATION**\n",
        "          \n",
        "          \n",
        "| Field | Type |\n",
        "|:----:|:---:|\n",
        "| ID | NUMBER |\n",
        "| CITY | VARCHAR2(21) |\n",
        "| STATE | VARCHAR2(2) |\n",
        "| LAT_N | NUMBER |\n",
        "| LONG_W | NUMBER |"
      ]
    },
    {
      "cell_type": "code",
      "metadata": {
        "id": "3PT8JhUrQ-AM",
        "colab_type": "code",
        "colab": {}
      },
      "source": [
        "SELECT city,state from station; "
      ],
      "execution_count": 0,
      "outputs": []
    },
    {
      "cell_type": "markdown",
      "metadata": {
        "id": "6qkSu74BRN2I",
        "colab_type": "text"
      },
      "source": [
        "**Problem 7**\n",
        "\n",
        "Query a list of CITY names from STATION with even ID numbers only. You may print the results in any order, but must exclude duplicates from your answer.\n",
        "\n",
        "**Input Format**\n",
        "\n",
        "The **STATION** table is described as follows:\n",
        "          **STATION**\n",
        "          \n",
        "          \n",
        "| Field | Type |\n",
        "|:----:|:---:|\n",
        "| ID | NUMBER |\n",
        "| CITY | VARCHAR2(21) |\n",
        "| STATE | VARCHAR2(2) |\n",
        "| LAT_N | NUMBER |\n",
        "| LONG_W | NUMBER |"
      ]
    },
    {
      "cell_type": "code",
      "metadata": {
        "id": "q8IrTih7RWHj",
        "colab_type": "code",
        "colab": {}
      },
      "source": [
        "select distinct(city) from station where mod(id,2)=0;"
      ],
      "execution_count": 0,
      "outputs": []
    },
    {
      "cell_type": "markdown",
      "metadata": {
        "id": "xhtssVtESJB8",
        "colab_type": "text"
      },
      "source": [
        "**Problem 8**\n",
        "\n",
        "Let **N** be the number of CITY entries in STATION, and let **N'** be the number of distinct CITY names in STATION; query the value of **N-N'** from STATION. In other words, find the difference between the total number of CITY entries in the table and the number of distinct CITY entries in the table.\n",
        "\n",
        "**Input Format**\n",
        "\n",
        "The **STATION** table is described as follows:\n",
        "          **STATION**\n",
        "          \n",
        "          \n",
        "| Field | Type |\n",
        "|:----:|:---:|\n",
        "| ID | NUMBER |\n",
        "| CITY | VARCHAR2(21) |\n",
        "| STATE | VARCHAR2(2) |\n",
        "| LAT_N | NUMBER |\n",
        "| LONG_W | NUMBER |"
      ]
    },
    {
      "cell_type": "code",
      "metadata": {
        "id": "RvUOsfV6Xr1E",
        "colab_type": "code",
        "colab": {}
      },
      "source": [
        "select count(city) -count(distinct(city)) from station;"
      ],
      "execution_count": 0,
      "outputs": []
    },
    {
      "cell_type": "markdown",
      "metadata": {
        "id": "6n2Du38cXuGA",
        "colab_type": "text"
      },
      "source": [
        "**Problem 9**\n",
        "\n",
        "Query the two cities in STATION with the shortest and longest CITY names, as well as their respective lengths (i.e.: number of characters in the name). If there is more than one smallest or largest city, choose the one that comes first when ordered alphabetically.\n",
        "\n",
        "**Input Format**\n",
        "\n",
        "The **STATION** table is described as follows:\n",
        "          **STATION**\n",
        "          \n",
        "          \n",
        "| Field | Type |\n",
        "|:----:|:---:|\n",
        "| ID | NUMBER |\n",
        "| CITY | VARCHAR2(21) |\n",
        "| STATE | VARCHAR2(2) |\n",
        "| LAT_N | NUMBER |\n",
        "| LONG_W | NUMBER |"
      ]
    },
    {
      "cell_type": "code",
      "metadata": {
        "id": "36JJWR6gX38a",
        "colab_type": "code",
        "colab": {}
      },
      "source": [
        "select * from(select city ,length(city) from station order by length(city) asc,city) where rownum=1;\n",
        "select * from(select city ,length(city) from station order by length(city) desc,city) where rownum=1;"
      ],
      "execution_count": 0,
      "outputs": []
    },
    {
      "cell_type": "markdown",
      "metadata": {
        "id": "2_UaCuDgfKeX",
        "colab_type": "text"
      },
      "source": [
        "**Problem 10**\n",
        "\n",
        "Query the list of CITY names starting with vowels (i.e., a, e, i, o, or u) from STATION. Your result cannot contain duplicates.\n",
        "\n",
        "**Input Format**\n",
        "\n",
        "The **STATION** table is described as follows:\n",
        "          **STATION**\n",
        "          \n",
        "          \n",
        "| Field | Type |\n",
        "|:----:|:---:|\n",
        "| ID | NUMBER |\n",
        "| CITY | VARCHAR2(21) |\n",
        "| STATE | VARCHAR2(2) |\n",
        "| LAT_N | NUMBER |\n",
        "| LONG_W | NUMBER |"
      ]
    },
    {
      "cell_type": "code",
      "metadata": {
        "id": "6moC9Nz-fShH",
        "colab_type": "code",
        "colab": {}
      },
      "source": [
        "select distinct(city) from station where lower(substr(city,1,1))='a'or \n",
        "lower(substr(city,1,1))='e' or\n",
        "lower(substr(city,1,1))='i' or\n",
        "lower(substr(city,1,1))='u' or \n",
        "lower(substr(city,1,1))='o';"
      ],
      "execution_count": 0,
      "outputs": []
    },
    {
      "cell_type": "markdown",
      "metadata": {
        "id": "0AxyfiJijJ7T",
        "colab_type": "text"
      },
      "source": [
        "### Python"
      ]
    },
    {
      "cell_type": "markdown",
      "metadata": {
        "id": "PEW8LsB5jLqf",
        "colab_type": "text"
      },
      "source": [
        "#### Problem 1\n",
        "\n",
        "**Task** \n",
        "Given an integer, , perform the following conditional actions:\n",
        "\n",
        "* If `n` is odd, print *Weird*\n",
        "* If `n` is even and in the inclusive range of 2 to 5, print *Not Weird*\n",
        "* If `n` is even and in the inclusive range of 6 to 20, print *Weird*\n",
        "* If `n` is even and greater than 20, print *Not Weird*\n",
        "\n",
        "**Input Format**\n",
        "\n",
        "A single line containing a positive integer, .\n",
        "\n",
        "**Output Format**\n",
        "\n",
        "Print Weird if the number is weird; otherwise, print Not Weird."
      ]
    },
    {
      "cell_type": "code",
      "metadata": {
        "id": "JBOxgw0zjLC2",
        "colab_type": "code",
        "colab": {}
      },
      "source": [
        "n = int(input())\n",
        "\n",
        "if n % 2 == 1:\n",
        "    print('Weird')\n",
        "else:\n",
        "    if (n >= 2) and (n <= 5):\n",
        "        print('Not Weird')\n",
        "    elif (n >= 6) and (n <= 20):\n",
        "        print('Weird')\n",
        "    else:\n",
        "        print('Not Weird')"
      ],
      "execution_count": 0,
      "outputs": []
    },
    {
      "cell_type": "markdown",
      "metadata": {
        "id": "a-Q3VE7YkA9A",
        "colab_type": "text"
      },
      "source": [
        "## Your turn\n",
        "\n",
        "Good luck and have fun!"
      ]
    },
    {
      "cell_type": "markdown",
      "metadata": {
        "id": "uaBJ-DfvFVdl",
        "colab_type": "text"
      },
      "source": [
        "#### Problem 1\n",
        "\n",
        "**Task** \n",
        "\n",
        "In this challenge, you will be given **2** integers,**n** and **m** . There are **n** words, which might repeat, in word group **A**. There are **m** words belonging to word group **B**. For each **m** words, check whether the word has appeared in group **A** or not. Print the indices of each occurrence of **m** in group **A**. If it does not appear, print **-1**.\n",
        "\n",
        "**Constraints**\n",
        "\n",
        "1<=n<=10000\n",
        "\n",
        "1<=m<=100\n",
        "\n",
        "1<=length of each word in the input<=100\n",
        "\n",
        "**Input Format**\n",
        "\n",
        "The first line contains integers,**n** and **m** separated by a space.\n",
        "\n",
        "The next **n** lines contains the words belonging to group **A**\n",
        "\n",
        "The next **m** lines contains the words belonging to group **B**.\n",
        "\n",
        "**Output Format**\n",
        "\n",
        "Output **m** lines.\n",
        "The **ith** line should contain the **1** -indexed positions of the occurrences of the **ith** word separated by spaces. "
      ]
    },
    {
      "cell_type": "code",
      "metadata": {
        "id": "RdkdZgjaj0To",
        "colab_type": "code",
        "colab": {}
      },
      "source": [
        "from collections import defaultdict\n",
        "d=defaultdict(list)\n",
        "n,m=input().split()\n",
        "n=int(n)\n",
        "m=int(m)\n",
        "for i in range(n):\n",
        "  t=input()\n",
        "  d[t].append(i+1)\n",
        "for i in range(m):\n",
        "  t=input()\n",
        "  ans=\"\"\n",
        "  if(t not in d):\n",
        "    print(-1)\n",
        "  else:\n",
        "    for index in d[t]:\n",
        "      ans+=str(index)+\" \"\n",
        "    print(ans)\n",
        "  "
      ],
      "execution_count": 0,
      "outputs": []
    },
    {
      "cell_type": "markdown",
      "metadata": {
        "id": "3xVdDn6VKWGb",
        "colab_type": "text"
      },
      "source": [
        "#### Problem 2\n",
        "\n",
        "**Task** \n",
        "\n",
        "Read in two integers,**a** and **b** , and print three lines.\n",
        "The first line is the integer division **a//b** (While using Python2 remember to import division from __future__).\n",
        "\n",
        "The second line is the result of the modulo operator:**a%b** .\n",
        "The third line prints the divmod of **a** and **b**. \n",
        "\n",
        "**Input Format**\n",
        "\n",
        "The first line contains the first integer **a**, , and the second line contains the second integer **b**, .\n",
        "\n",
        "\n",
        "**Output Format**\n",
        "\n",
        "Print the result as described above. "
      ]
    },
    {
      "cell_type": "code",
      "metadata": {
        "id": "-e3akO0Gj_gk",
        "colab_type": "code",
        "colab": {}
      },
      "source": [
        "a=int(input())\n",
        "b=int(input())\n",
        "print(a//b)\n",
        "print(a%b)\n",
        "print(\"(\"+str(a//b)+\", \"+str(a%b)+\")\")"
      ],
      "execution_count": 0,
      "outputs": []
    },
    {
      "cell_type": "markdown",
      "metadata": {
        "id": "7tMVOkIHLz9G",
        "colab_type": "text"
      },
      "source": [
        "#### Problem 3\n",
        "\n",
        "**Task** \n",
        "\n",
        "You are given three integers:**a** ,**b** , and **c**, respectively. Print two lines.\n",
        "The first line should print the result of pow(a,b). The second line should print the result of pow(a,b,m).  \n",
        "\n",
        "**Input Format**\n",
        "\n",
        "The first line contains **a**, the second line contains **b**, and the third line contains **m** \n",
        "\n",
        "\n",
        "**Output Format**\n",
        "\n",
        "Print the result as described above. "
      ]
    },
    {
      "cell_type": "code",
      "metadata": {
        "id": "QfklJUGvPTxv",
        "colab_type": "code",
        "colab": {}
      },
      "source": [
        "def powhere(a,b):\n",
        "    result=1\n",
        "    for i in range(b):\n",
        "        result*=a\n",
        "    return result\n",
        "a=int(input())\n",
        "b=int(input())\n",
        "c=int(input())\n",
        "ans=powhere(a,b)\n",
        "print(ans)\n",
        "print(ans%c)"
      ],
      "execution_count": 0,
      "outputs": []
    },
    {
      "cell_type": "markdown",
      "metadata": {
        "id": "bvukQhIqP3__",
        "colab_type": "text"
      },
      "source": [
        "#### Problem 4\n",
        "\n",
        "**Task** \n",
        "\n",
        "Read two integers from STDIN and print three lines where:\n",
        "\n",
        "    1/The first line contains the sum of the two numbers.\n",
        "    2/The second line contains the difference of the two numbers (first - second).\n",
        "    3/The third line contains the product of the two numbers.\n",
        "    \n",
        "**Input Format**\n",
        "\n",
        "The first line contains the first integer,**a**\n",
        ". The second line contains the second integer, **b** . \n",
        "\n",
        "**Output Format**\n",
        "\n",
        "Print the three lines as explained above. \n"
      ]
    },
    {
      "cell_type": "code",
      "metadata": {
        "id": "5o7eHoqGQLR-",
        "colab_type": "code",
        "colab": {}
      },
      "source": [
        "a=int(input())\n",
        "b=int(input())\n",
        "print(a+b)\n",
        "print(a-b)\n",
        "print(a*b)"
      ],
      "execution_count": 0,
      "outputs": []
    },
    {
      "cell_type": "markdown",
      "metadata": {
        "id": "Lh3iwcDxQs6I",
        "colab_type": "text"
      },
      "source": [
        "#### Problem 5\n",
        "\n",
        "\n",
        "**Task** \n",
        "\n",
        "You are given a string and your task is to swap cases. In other words, convert all lowercase letters to uppercase letters and vice versa.\n",
        "    \n",
        "**Input Format**\n",
        "\n",
        "A single line containing a string **S**. \n",
        "\n",
        "**Output Format**\n",
        "\n",
        "Print the modified string **S**."
      ]
    },
    {
      "cell_type": "code",
      "metadata": {
        "id": "xTlM91SJS9Mp",
        "colab_type": "code",
        "colab": {}
      },
      "source": [
        "def swap_case(s):\n",
        "    tmp=list(s)\n",
        "    for i in range(len(tmp)):\n",
        "        if(tmp[i].islower()):\n",
        "            tmp[i]=tmp[i].upper()\n",
        "        else:\n",
        "            tmp[i]=tmp[i].lower()\n",
        "    ans=''.join(tmp)\n",
        "    return ans"
      ],
      "execution_count": 0,
      "outputs": []
    }
  ]
}